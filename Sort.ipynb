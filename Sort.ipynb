{
 "cells": [
  {
   "cell_type": "code",
   "execution_count": 1,
   "id": "de9b766c",
   "metadata": {},
   "outputs": [
    {
     "name": "stdout",
     "output_type": "stream",
     "text": [
      "Initial array: [3, 4, 5, 2, 1]\n",
      "The number of permutations is 7\n",
      "Sorted array: [1, 2, 3, 4, 5]\n"
     ]
    }
   ],
   "source": [
    "#Bubble sort\n",
    "def bubble_sort(arr):\n",
    "    count = 0\n",
    "    need_iteration = 'true'\n",
    "    while need_iteration == 'true':\n",
    "        need_iteration = 'false'\n",
    "        for i in range(len(arr)):\n",
    "            for j in range(0, len(arr)-i-1):\n",
    "                if arr[j] > arr[j+1]:\n",
    "                    arr[j], arr[j+1] = arr[j+1], arr[j]\n",
    "                    need_iteration = 'true'\n",
    "                    count +=1\n",
    "    print(\"The number of permutations is\", count)\n",
    "library_num = [3,4,5,2,1]\n",
    "print(\"Initial array:\", library_num)\n",
    "bubble_sort(library_num)\n",
    "print (\"Sorted array:\", library_num)"
   ]
  },
  {
   "cell_type": "code",
   "execution_count": 11,
   "id": "e407c244",
   "metadata": {},
   "outputs": [
    {
     "name": "stdout",
     "output_type": "stream",
     "text": [
      "Initial array: [6, 3, 5, 4, 2]\n",
      "The number of permutations is 8\n",
      "Sorted array: [2, 3, 4, 5, 6]\n"
     ]
    }
   ],
   "source": [
    "#Insertion sort\n",
    "def insertion_sort(arr):\n",
    "    count = 0\n",
    "    for i in range(1, len(arr)):\n",
    "        key_item = arr[i]\n",
    "        j = i-1\n",
    "        while j >= 0 and key_item < arr[j]:\n",
    "            arr[j + 1] = arr[j]\n",
    "            j -= 1\n",
    "            count +=1\n",
    "        arr[j + 1] = key_item\n",
    "    print(\"The number of permutations is\", count)\n",
    "\n",
    "library_num = [6,3,5,4,2]\n",
    "print(\"Initial array:\", library_num)\n",
    "insertion_sort(library_num)\n",
    "print (\"Sorted array:\", library_num)"
   ]
  },
  {
   "cell_type": "code",
   "execution_count": 15,
   "id": "3bf22dc1",
   "metadata": {},
   "outputs": [
    {
     "name": "stdout",
     "output_type": "stream",
     "text": [
      "Initial array: [124, 235, 456, 123, 756, 476, 285, 998, 379, 108]\n",
      "Sorted array: [108, 123, 124, 235, 285, 379, 456, 476, 756, 998]\n"
     ]
    }
   ],
   "source": [
    "#Selection sort\n",
    "def selection_sort(arr): \n",
    "    for i in range(len(arr)):\n",
    "        min = i\n",
    "        for j in range(i + 1, len(arr)):\n",
    "            if arr[min] > arr[j]:\n",
    "                min = j\n",
    "        arr[i], arr[min] = arr[min], arr[i]\n",
    "\n",
    "library_num = [124,235,456,123,756,476,285,998,379,108]\n",
    "print(\"Initial array:\", library_num)\n",
    "selection_sort(library_num)\n",
    "print (\"Sorted array:\", library_num)"
   ]
  },
  {
   "cell_type": "code",
   "execution_count": null,
   "id": "bb4e6a6d",
   "metadata": {},
   "outputs": [],
   "source": []
  },
  {
   "cell_type": "code",
   "execution_count": 10,
   "id": "3d9fc4a7",
   "metadata": {},
   "outputs": [
    {
     "name": "stdout",
     "output_type": "stream",
     "text": [
      "6.0\n"
     ]
    }
   ],
   "source": [
    "print(10 % 2 + 25 / 5 * 7 % 4 + 3 )"
   ]
  }
 ],
 "metadata": {
  "kernelspec": {
   "display_name": "Python 3 (ipykernel)",
   "language": "python",
   "name": "python3"
  },
  "language_info": {
   "codemirror_mode": {
    "name": "ipython",
    "version": 3
   },
   "file_extension": ".py",
   "mimetype": "text/x-python",
   "name": "python",
   "nbconvert_exporter": "python",
   "pygments_lexer": "ipython3",
   "version": "3.9.0"
  }
 },
 "nbformat": 4,
 "nbformat_minor": 5
}
